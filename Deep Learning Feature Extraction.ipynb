{
  "nbformat": 4,
  "nbformat_minor": 0,
  "metadata": {
    "colab": {
      "name": "STAT 428 Homework 4.ipynb",
      "provenance": []
    },
    "kernelspec": {
      "name": "python3",
      "display_name": "Python 3"
    },
    "language_info": {
      "name": "python"
    },
    "accelerator": "GPU"
  },
  "cells": [
    {
      "cell_type": "code",
      "execution_count": 10,
      "metadata": {
        "colab": {
          "base_uri": "https://localhost:8080/",
          "height": 283
        },
        "id": "uI7yII1j5XXj",
        "outputId": "7f6d676d-0b4f-42f8-9614-6958f462f6f1"
      },
      "outputs": [
        {
          "output_type": "execute_result",
          "data": {
            "text/plain": [
              "<matplotlib.image.AxesImage at 0x7f89f5cd1550>"
            ]
          },
          "metadata": {},
          "execution_count": 10
        },
        {
          "output_type": "display_data",
          "data": {
            "text/plain": [
              "<Figure size 432x288 with 1 Axes>"
            ],
            "image/png": "[encoded data removed]"
          },
          "metadata": {
            "needs_background": "light"
          }
        }
      ],
      "source": [
        "import numpy as np\n",
        "import tensorflow as tf\n",
        "from scipy.signal import convolve2d\n",
        "\n",
        "x = np.array([[0,\t0,\t0,\t0,\t1,\t2,\t1,\t2,\t0,\t0],\n",
        "               [0, \t0,\t0,\t0,\t1,\t2,\t1,\t2,\t0,\t0],\n",
        "               [0,\t1,\t0,\t0,\t0,\t0,\t1,\t2,\t0,\t0],\n",
        "               [0,\t0,\t0,\t0,\t0,\t1,\t2,\t0,\t0,\t1],\n",
        "               [0,\t0,\t0,\t0,\t1,\t2,\t1,\t0,\t0,\t0],\n",
        "               [0,\t0,\t0,\t0,\t3,\t3,\t1,\t1,\t0,\t0],\n",
        "               [1,\t0,\t0,\t0,\t3,\t2,\t1,\t1,\t0,\t0],\n",
        "               [0,\t0,\t0,\t0,\t0,\t0,\t0,\t0,\t0,\t0]])\n",
        "x\n",
        "\n",
        "x0 = np.zeros(shape = (12, 14))\n",
        "x0\n",
        "\n",
        "x0[2:10, 2:12] = x\n",
        "\n",
        "x0\n",
        "\n",
        "iden = np.array([[0, 0, 0], [0, 1, 0], [0, 0, 0]])\n",
        "Gaussian = np.array([[1, 2, 1], [2, 4, 2], [1, 2, 1]]) * (1/16)\n",
        "\n",
        "Gaussian\n",
        "\n",
        "C = np.zeros(shape = (10, 12))\n",
        "\n",
        "for i in range(0, 10):\n",
        "  for j in range(0, 12):\n",
        "    t = x0[i:(i+3), j:(j+3)]*Gaussian\n",
        "    C[i, j] = t.sum()\n",
        "\n",
        "C\n",
        "\n",
        "C.shape\n",
        "\n",
        "iden = np.array([[0, 0, 0],\n",
        "                [0, 1, 0],\n",
        "                [0, 0, 0]])\n",
        "\n",
        "convolve2d(x, iden)\n",
        "\n",
        "import matplotlib.pyplot as plt\n",
        "plt.imshow(x)\n",
        "\n"
      ]
    }
  ]
}